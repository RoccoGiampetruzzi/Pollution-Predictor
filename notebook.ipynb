{
 "cells": [
  {
   "cell_type": "code",
   "execution_count": 3,
   "metadata": {},
   "outputs": [],
   "source": [
    "import numpy as np\n",
    "import pandas as pd\n",
    "import matplotlib.pyplot as plt"
   ]
  },
  {
   "cell_type": "code",
   "execution_count": 4,
   "metadata": {},
   "outputs": [
    {
     "name": "stdout",
     "output_type": "stream",
     "text": [
      "(2071, 11) (1110, 11) (1352, 11) (1351, 11) (824, 11)\n"
     ]
    },
    {
     "data": {
      "text/plain": [
       "Index(['season', 'DEWP', 'HUMI', 'PRES', 'TEMP', 'Iws', 'precipitation',\n",
       "       'cbwd_NE', 'cbwd_NW', 'cbwd_SE', 'PM_HIGH'],\n",
       "      dtype='object')"
      ]
     },
     "execution_count": 4,
     "metadata": {},
     "output_type": "execute_result"
    }
   ],
   "source": [
    "beijing = pd.read_csv('Cities/Beijing_labeled.csv')\n",
    "chengdu = pd.read_csv('Cities/Chengdu_labeled.csv')\n",
    "guangzhou = pd.read_csv('Cities/Guangzhou_labeled.csv')\n",
    "shanghai = pd.read_csv('Cities/Shanghai_labeled.csv')\n",
    "shenyang = pd.read_csv('Cities/Shenyang_labeled.csv')\n",
    "\n",
    "\n",
    "print(beijing.shape, chengdu.shape, guangzhou.shape, shanghai.shape, shenyang.shape)\n",
    "\n",
    "beijing.columns\n"
   ]
  },
  {
   "cell_type": "code",
   "execution_count": 5,
   "metadata": {},
   "outputs": [
    {
     "data": {
      "text/html": [
       "<div>\n",
       "<style scoped>\n",
       "    .dataframe tbody tr th:only-of-type {\n",
       "        vertical-align: middle;\n",
       "    }\n",
       "\n",
       "    .dataframe tbody tr th {\n",
       "        vertical-align: top;\n",
       "    }\n",
       "\n",
       "    .dataframe thead th {\n",
       "        text-align: right;\n",
       "    }\n",
       "</style>\n",
       "<table border=\"1\" class=\"dataframe\">\n",
       "  <thead>\n",
       "    <tr style=\"text-align: right;\">\n",
       "      <th></th>\n",
       "      <th>season</th>\n",
       "      <th>DEWP</th>\n",
       "      <th>HUMI</th>\n",
       "      <th>PRES</th>\n",
       "      <th>TEMP</th>\n",
       "      <th>Iws</th>\n",
       "      <th>precipitation</th>\n",
       "      <th>cbwd_NE</th>\n",
       "      <th>cbwd_NW</th>\n",
       "      <th>cbwd_SE</th>\n",
       "      <th>PM_HIGH</th>\n",
       "    </tr>\n",
       "  </thead>\n",
       "  <tbody>\n",
       "    <tr>\n",
       "      <th>0</th>\n",
       "      <td>4</td>\n",
       "      <td>-8.0</td>\n",
       "      <td>79.0</td>\n",
       "      <td>1026.0</td>\n",
       "      <td>-5.0</td>\n",
       "      <td>23.69</td>\n",
       "      <td>0.0</td>\n",
       "      <td>0</td>\n",
       "      <td>0</td>\n",
       "      <td>1</td>\n",
       "      <td>1.0</td>\n",
       "    </tr>\n",
       "    <tr>\n",
       "      <th>1</th>\n",
       "      <td>4</td>\n",
       "      <td>-11.0</td>\n",
       "      <td>85.0</td>\n",
       "      <td>1021.0</td>\n",
       "      <td>-9.0</td>\n",
       "      <td>105.93</td>\n",
       "      <td>1.1</td>\n",
       "      <td>0</td>\n",
       "      <td>0</td>\n",
       "      <td>1</td>\n",
       "      <td>0.0</td>\n",
       "    </tr>\n",
       "    <tr>\n",
       "      <th>2</th>\n",
       "      <td>4</td>\n",
       "      <td>-21.0</td>\n",
       "      <td>43.0</td>\n",
       "      <td>1030.0</td>\n",
       "      <td>-11.0</td>\n",
       "      <td>117.55</td>\n",
       "      <td>0.0</td>\n",
       "      <td>0</td>\n",
       "      <td>1</td>\n",
       "      <td>0</td>\n",
       "      <td>0.0</td>\n",
       "    </tr>\n",
       "    <tr>\n",
       "      <th>3</th>\n",
       "      <td>4</td>\n",
       "      <td>-25.0</td>\n",
       "      <td>33.0</td>\n",
       "      <td>1034.0</td>\n",
       "      <td>-12.0</td>\n",
       "      <td>39.35</td>\n",
       "      <td>0.0</td>\n",
       "      <td>1</td>\n",
       "      <td>0</td>\n",
       "      <td>0</td>\n",
       "      <td>0.0</td>\n",
       "    </tr>\n",
       "    <tr>\n",
       "      <th>4</th>\n",
       "      <td>4</td>\n",
       "      <td>-24.0</td>\n",
       "      <td>30.0</td>\n",
       "      <td>1034.0</td>\n",
       "      <td>-10.0</td>\n",
       "      <td>59.00</td>\n",
       "      <td>0.0</td>\n",
       "      <td>1</td>\n",
       "      <td>0</td>\n",
       "      <td>0</td>\n",
       "      <td>0.0</td>\n",
       "    </tr>\n",
       "  </tbody>\n",
       "</table>\n",
       "</div>"
      ],
      "text/plain": [
       "   season  DEWP  HUMI    PRES  TEMP     Iws  precipitation  cbwd_NE  cbwd_NW  \\\n",
       "0       4  -8.0  79.0  1026.0  -5.0   23.69            0.0        0        0   \n",
       "1       4 -11.0  85.0  1021.0  -9.0  105.93            1.1        0        0   \n",
       "2       4 -21.0  43.0  1030.0 -11.0  117.55            0.0        0        1   \n",
       "3       4 -25.0  33.0  1034.0 -12.0   39.35            0.0        1        0   \n",
       "4       4 -24.0  30.0  1034.0 -10.0   59.00            0.0        1        0   \n",
       "\n",
       "   cbwd_SE  PM_HIGH  \n",
       "0        1      1.0  \n",
       "1        1      0.0  \n",
       "2        0      0.0  \n",
       "3        0      0.0  \n",
       "4        0      0.0  "
      ]
     },
     "execution_count": 5,
     "metadata": {},
     "output_type": "execute_result"
    }
   ],
   "source": [
    "beijing.head()"
   ]
  },
  {
   "cell_type": "markdown",
   "metadata": {},
   "source": [
    "(x - mu)/sigma"
   ]
  },
  {
   "cell_type": "code",
   "execution_count": 31,
   "metadata": {},
   "outputs": [
    {
     "data": {
      "text/plain": [
       "0       0.0\n",
       "1       1.1\n",
       "2       0.0\n",
       "3       0.0\n",
       "4       0.0\n",
       "       ... \n",
       "2066    0.0\n",
       "2067    0.0\n",
       "2068    0.0\n",
       "2069    0.0\n",
       "2070    0.0\n",
       "Name: precipitation, Length: 2071, dtype: float64"
      ]
     },
     "execution_count": 31,
     "metadata": {},
     "output_type": "execute_result"
    }
   ],
   "source": [
    "beijing['precipitation']"
   ]
  },
  {
   "cell_type": "code",
   "execution_count": 6,
   "metadata": {},
   "outputs": [],
   "source": [
    "beijing_np = beijing.to_numpy()"
   ]
  },
  {
   "cell_type": "code",
   "execution_count": 7,
   "metadata": {},
   "outputs": [
    {
     "data": {
      "text/plain": [
       "array([[  4.,  -8.,  79., ...,   0.,   1.,   1.],\n",
       "       [  4., -11.,  85., ...,   0.,   1.,   0.],\n",
       "       [  4., -21.,  43., ...,   1.,   0.,   0.],\n",
       "       ...,\n",
       "       [  4.,  -8.,  50., ...,   1.,   0.,   1.],\n",
       "       [  4., -11.,  28., ...,   1.,   0.,   0.],\n",
       "       [  4., -10.,  37., ...,   0.,   0.,   0.]], shape=(2071, 11))"
      ]
     },
     "execution_count": 7,
     "metadata": {},
     "output_type": "execute_result"
    }
   ],
   "source": [
    "beijing_np"
   ]
  },
  {
   "cell_type": "code",
   "execution_count": 8,
   "metadata": {},
   "outputs": [
    {
     "ename": "NameError",
     "evalue": "name 'a' is not defined",
     "output_type": "error",
     "traceback": [
      "\u001b[0;31m---------------------------------------------------------------------------\u001b[0m",
      "\u001b[0;31mNameError\u001b[0m                                 Traceback (most recent call last)",
      "Cell \u001b[0;32mIn[8], line 1\u001b[0m\n\u001b[0;32m----> 1\u001b[0m \u001b[43ma\u001b[49m\n",
      "\u001b[0;31mNameError\u001b[0m: name 'a' is not defined"
     ]
    }
   ],
   "source": [
    "a"
   ]
  },
  {
   "cell_type": "code",
   "execution_count": 9,
   "metadata": {},
   "outputs": [],
   "source": [
    "mean = np.mean(beijing_np, axis=0)"
   ]
  },
  {
   "cell_type": "code",
   "execution_count": 10,
   "metadata": {},
   "outputs": [
    {
     "data": {
      "text/plain": [
       "array([2.48575567e+00, 1.20183486e+00, 4.11211975e+01, 1.01671173e+03,\n",
       "       1.62206663e+01, 2.14990343e+01, 4.65475616e-02, 1.13954611e-01,\n",
       "       3.06132303e-01, 3.15789474e-01, 3.13375181e-01])"
      ]
     },
     "execution_count": 10,
     "metadata": {},
     "output_type": "execute_result"
    }
   ],
   "source": [
    "mean"
   ]
  },
  {
   "cell_type": "code",
   "execution_count": 11,
   "metadata": {},
   "outputs": [],
   "source": [
    "std = np.std(beijing_np, axis=0)"
   ]
  },
  {
   "cell_type": "code",
   "execution_count": 12,
   "metadata": {},
   "outputs": [
    {
     "data": {
      "text/plain": [
       "array([ 1.12332923, 14.61436745, 22.82766223, 10.25316677, 11.68531861,\n",
       "       47.6189516 ,  0.49582166,  0.31775613,  0.46088536,  0.46482952,\n",
       "        0.46386547])"
      ]
     },
     "execution_count": 12,
     "metadata": {},
     "output_type": "execute_result"
    }
   ],
   "source": [
    "std"
   ]
  },
  {
   "cell_type": "code",
   "execution_count": 13,
   "metadata": {},
   "outputs": [],
   "source": [
    "a = (beijing_np - mean)/std"
   ]
  },
  {
   "cell_type": "code",
   "execution_count": 14,
   "metadata": {},
   "outputs": [
    {
     "data": {
      "text/plain": [
       "array([ 1.3479969 , -0.62964305,  1.65933779,  0.90589247, -1.81601093,\n",
       "        0.04601037, -0.09387965, -0.35862286, -0.66422657,  1.47196014,\n",
       "        1.48022403])"
      ]
     },
     "execution_count": 14,
     "metadata": {},
     "output_type": "execute_result"
    }
   ],
   "source": [
    "a[0]"
   ]
  },
  {
   "cell_type": "code",
   "execution_count": 21,
   "metadata": {},
   "outputs": [
    {
     "data": {
      "text/plain": [
       "array([ 1.3479969 ,  1.76526047,  2.5792743 ,  2.66144764,  1.94939774,\n",
       "        9.37758919, 29.55387715,  2.78844468,  1.50551038,  1.47196014,\n",
       "        1.48022403])"
      ]
     },
     "execution_count": 21,
     "metadata": {},
     "output_type": "execute_result"
    }
   ],
   "source": [
    "np.max(a, axis=0)"
   ]
  },
  {
   "cell_type": "code",
   "execution_count": 16,
   "metadata": {},
   "outputs": [
    {
     "data": {
      "text/plain": [
       "array([   0,  525,  542, 1026,  174,  336,  204,    3,    2,    0,    0])"
      ]
     },
     "execution_count": 16,
     "metadata": {},
     "output_type": "execute_result"
    }
   ],
   "source": [
    "np.argmax(a, axis=0)"
   ]
  },
  {
   "cell_type": "code",
   "execution_count": 25,
   "metadata": {},
   "outputs": [
    {
     "data": {
      "text/plain": [
       "array([-0.43242503,  1.4231314 ,  1.83456379, -1.23978608,  0.75131316,\n",
       "       -0.24505021, 29.55387715, -0.35862286,  1.50551038, -0.67936622,\n",
       "       -0.67557341])"
      ]
     },
     "execution_count": 25,
     "metadata": {},
     "output_type": "execute_result"
    }
   ],
   "source": [
    "a[204]"
   ]
  },
  {
   "cell_type": "code",
   "execution_count": 27,
   "metadata": {},
   "outputs": [
    {
     "data": {
      "text/plain": [
       "array([ 1.12332923, 14.61436745, 22.82766223, 10.25316677, 11.68531861,\n",
       "       47.6189516 ,  0.49582166,  0.31775613,  0.46088536,  0.46482952,\n",
       "        0.46386547])"
      ]
     },
     "execution_count": 27,
     "metadata": {},
     "output_type": "execute_result"
    }
   ],
   "source": [
    "np.std(beijing_np, axis=0)"
   ]
  },
  {
   "cell_type": "code",
   "execution_count": 24,
   "metadata": {},
   "outputs": [
    {
     "data": {
      "text/plain": [
       "array([2.48575567e+00, 1.20183486e+00, 4.11211975e+01, 1.01671173e+03,\n",
       "       1.62206663e+01, 2.14990343e+01, 4.65475616e-02, 1.13954611e-01,\n",
       "       3.06132303e-01, 3.15789474e-01, 3.13375181e-01])"
      ]
     },
     "execution_count": 24,
     "metadata": {},
     "output_type": "execute_result"
    }
   ],
   "source": [
    "np.mean(beijing_np, axis=0)"
   ]
  },
  {
   "cell_type": "code",
   "execution_count": 22,
   "metadata": {},
   "outputs": [
    {
     "data": {
      "text/plain": [
       "array([2.000e+00, 2.200e+01, 8.300e+01, 1.004e+03, 2.500e+01, 9.830e+00,\n",
       "       1.470e+01, 0.000e+00, 1.000e+00, 0.000e+00, 0.000e+00])"
      ]
     },
     "execution_count": 22,
     "metadata": {},
     "output_type": "execute_result"
    }
   ],
   "source": [
    "beijing_np[204]"
   ]
  },
  {
   "cell_type": "code",
   "execution_count": 65,
   "metadata": {},
   "outputs": [
    {
     "data": {
      "text/plain": [
       "array([1, 0, 0, ..., 1, 0, 0], shape=(2071,))"
      ]
     },
     "execution_count": 65,
     "metadata": {},
     "output_type": "execute_result"
    }
   ],
   "source": [
    "beijing_np[:, 10].astype(int)"
   ]
  },
  {
   "cell_type": "code",
   "execution_count": 225,
   "metadata": {},
   "outputs": [],
   "source": [
    "import numpy as np\n",
    "from sklearn.decomposition import PCA\n",
    "\n",
    "class PM_HIGH_PREDICTOR:\n",
    "    def __init__(self, K, tolerance=1e-5):\n",
    "        self.mean = None\n",
    "        self.std = None\n",
    "        self.pca = None\n",
    "        self.K = K\n",
    "        self.tolerance=tolerance\n",
    "        self.centroids = None\n",
    "        self.labels = None\n",
    "    \n",
    "    def normalize(self, X, training = False, pca = False, n_components = 2):\n",
    "        \"\"\"\n",
    "        Inputs:\n",
    "        - X (numpy array): Array containing the input data.\n",
    "        \"\"\"\n",
    "        \n",
    "        if training:\n",
    "            self.mean = np.mean(X, axis = 0)        # Mean over the rows of the input array\n",
    "            self.std = np.std(X, axis = 0)          # STD over the rows of the input array\n",
    "\n",
    "            X = (X - self.mean)/self.std\n",
    "        \n",
    "            if pca:\n",
    "                self.pca = PCA(n_components=n_components)\n",
    "                X = self.pca.fit_transform(X)\n",
    "            return X\n",
    "        \n",
    "        else:\n",
    "            \n",
    "            X = (X - self.mean)/self.std\n",
    "            if self.pca is not None:\n",
    "                X = self.pca.fit_transform(X)\n",
    "        \n",
    "            return X\n",
    "        \n",
    "        \n",
    "    def fit(self, X_train, y, verbose=False):\n",
    "        \n",
    "        \"\"\"\n",
    "        Inputs:\n",
    "        - X (np.array): training data\n",
    "        - verbose: verbosity parameter (set to True to see distance and # of iterations)\n",
    "        Outputs:\n",
    "        - None\n",
    "        \"\"\"\n",
    "        \n",
    "        if len(X_train.shape) == 1:\n",
    "            raise Exception('You need at least two vectors to train K-Means')\n",
    "            \n",
    "        ### INPUT DATA INITIALIZATION ###\n",
    "        X = self.normalize(X_train, training=True, pca=True, n_components=3)                                                           \n",
    "        \n",
    "        ### RANDOM CENTROID INITIALIZATION ###\n",
    "        self.centroids = np.random.normal(loc=0, scale= 1, size = (self.K, X.shape[1]))     \n",
    "        \n",
    "        centroid_distance = 100\n",
    "        n_iterations = 0\n",
    "        \n",
    "        \n",
    "        #### ITERATIVE STEP ####\n",
    "        while centroid_distance > self.tolerance:\n",
    "            \n",
    "            # Computing distance between each datapoint and each centroid (returns array of shape n_datapoints x n_centroids)\n",
    "            point_centroid_distances = np.linalg.norm(X[:, np.newaxis, :] - self.centroids[np.newaxis, :, :], axis = 2)\n",
    "            \n",
    "            # Assigning each datapoint to closest centroid (returns array of shape n_datapoints x 1, with entries in [0, K])\n",
    "            centroid_assignment = np.argmin(point_centroid_distances, axis = 1)\n",
    "\n",
    "            \n",
    "            new_centroids = []\n",
    "            for i in range(self.K):\n",
    "                if np.bincount(centroid_assignment)[i]:\n",
    "                    \n",
    "                    # Computing new centroids by doing mean of assigned datapoints\n",
    "                    new_centroids.append(np.mean(X[centroid_assignment == i], axis = 0))\n",
    "                \n",
    "                else:\n",
    "                    new_centroids.append(self.centroids[i])\n",
    "            \n",
    "            new_centroids = np.array(new_centroids)\n",
    "            centroid_distance = np.linalg.norm(self.centroids - new_centroids)\n",
    "            self.centroids = new_centroids\n",
    "            n_iterations += 1\n",
    "            if verbose:\n",
    "                print(f'ITERATION {n_iterations}. DISTANCE: {centroid_distance}')\n",
    "                print(np.bincount(centroid_assignment))\n",
    "        self.labels = np.zeros(self.K)\n",
    "        for i in range(self.K):\n",
    "            if len(np.bincount(y[centroid_assignment == i].astype(int))):\n",
    "                self.labels[i] = np.argmax(np.bincount(y[centroid_assignment == i].astype(int)))\n",
    "            \n",
    "            \n",
    "    def predict(self, X_test):\n",
    "        if self.centroids is None:\n",
    "            raise Exception('The model has not been trained')\n",
    "        \n",
    "        if len(X_test.shape) == 1:\n",
    "            X_test = X_test[np.newaxis, :]\n",
    "            \n",
    "        if X_test.shape[1] != self.centroids.shape[1]:\n",
    "            raise Exception(f'Doing prediction with {X_test.shape[1]} features, but trained on {self.centroids.shape[1]}')\n",
    "        \n",
    "        X = self.normalize(X_test, training=False)\n",
    "        \n",
    "        point_centroid_distances = np.linalg.norm(X[:, np.newaxis, :] - self.centroids[np.newaxis, :, :], axis = 2)\n",
    "        point_assignment = np.argmin(point_centroid_distances, axis = 1)\n",
    "        return self.labels[point_assignment]\n",
    "        \n",
    "        \n",
    "    def score(self, X, y):\n",
    "        y_pred = self.predict(X)\n",
    "        n_labels = max(int(np.max(self.labels)) + 1, int(np.max(y))+1)\n",
    "        confusion_matrix = np.zeros((n_labels, n_labels), dtype=int)\n",
    "        \n",
    "        # Counting entries of Confusion Matrix\n",
    "        for true_label, pred_label in zip(y, y_pred):\n",
    "            confusion_matrix[int(true_label), int(pred_label)] += 1\n",
    "            \n",
    "        # Computing accuracy\n",
    "        accuracy = np.trace(confusion_matrix) / np.sum(confusion_matrix)\n",
    "        \n",
    "        return accuracy, confusion_matrix\n",
    "    \n",
    "    "
   ]
  },
  {
   "cell_type": "code",
   "execution_count": 226,
   "metadata": {},
   "outputs": [],
   "source": [
    "temp = PM_HIGH_PREDICTOR(K = 5)"
   ]
  },
  {
   "cell_type": "code",
   "execution_count": 246,
   "metadata": {},
   "outputs": [],
   "source": [
    "a = temp.normalize(beijing_np[:, :10], training=True, pca=True, n_components=3)"
   ]
  },
  {
   "cell_type": "code",
   "execution_count": 244,
   "metadata": {},
   "outputs": [
    {
     "data": {
      "image/png": "[encoded data removed]",
      "text/plain": [
       "<Figure size 640x480 with 1 Axes>"
      ]
     },
     "metadata": {},
     "output_type": "display_data"
    }
   ],
   "source": [
    "import numpy as np\n",
    "import matplotlib.pyplot as plt\n",
    "from mpl_toolkits.mplot3d import Axes3D  # Required for 3D plotting\n",
    "\n",
    "# Extract the x, y, and z coordinates\n",
    "x = a[:, 0]\n",
    "y = a[:, 1]\n",
    "z = a[:, 2]\n",
    "\n",
    "# Create a new figure\n",
    "fig = plt.figure()\n",
    "\n",
    "# Add a 3D subplot\n",
    "ax = fig.add_subplot(111, projection='3d')\n",
    "\n",
    "# Plot the data as a scatter plot\n",
    "ax.scatter(x, y, z, c='b', marker='o')\n",
    "\n",
    "# Optionally, label the axes\n",
    "ax.set_xlabel('X')\n",
    "ax.set_ylabel('Y')\n",
    "ax.set_zlabel('Z')\n",
    "\n",
    "# Set a title\n",
    "ax.set_title('3D Scatter Plot')\n",
    "\n",
    "# Display the plot\n",
    "plt.show()\n"
   ]
  },
  {
   "cell_type": "code",
   "execution_count": null,
   "metadata": {},
   "outputs": [
    {
     "ename": "KeyError",
     "evalue": "np.float64(1.0)",
     "output_type": "error",
     "traceback": [
      "\u001b[0;31m---------------------------------------------------------------------------\u001b[0m",
      "\u001b[0;31mKeyError\u001b[0m                                  Traceback (most recent call last)",
      "Cell \u001b[0;32mIn[249], line 3\u001b[0m\n\u001b[1;32m      1\u001b[0m beijing_np[:, \u001b[38;5;241m10\u001b[39m]\n\u001b[1;32m      2\u001b[0m label_to_color \u001b[38;5;241m=\u001b[39m {\u001b[38;5;124m'\u001b[39m\u001b[38;5;124m0.0\u001b[39m\u001b[38;5;124m'\u001b[39m: \u001b[38;5;124m'\u001b[39m\u001b[38;5;124mred\u001b[39m\u001b[38;5;124m'\u001b[39m, \u001b[38;5;124m'\u001b[39m\u001b[38;5;124m1.0\u001b[39m\u001b[38;5;124m'\u001b[39m: \u001b[38;5;124m'\u001b[39m\u001b[38;5;124mblue\u001b[39m\u001b[38;5;124m'\u001b[39m}\n\u001b[0;32m----> 3\u001b[0m colors \u001b[38;5;241m=\u001b[39m [label_to_color[label] \u001b[38;5;28;01mfor\u001b[39;00m label \u001b[38;5;129;01min\u001b[39;00m beijing_np[:, \u001b[38;5;241m10\u001b[39m]]\n",
      "Cell \u001b[0;32mIn[249], line 3\u001b[0m, in \u001b[0;36m<listcomp>\u001b[0;34m(.0)\u001b[0m\n\u001b[1;32m      1\u001b[0m beijing_np[:, \u001b[38;5;241m10\u001b[39m]\n\u001b[1;32m      2\u001b[0m label_to_color \u001b[38;5;241m=\u001b[39m {\u001b[38;5;124m'\u001b[39m\u001b[38;5;124m0.0\u001b[39m\u001b[38;5;124m'\u001b[39m: \u001b[38;5;124m'\u001b[39m\u001b[38;5;124mred\u001b[39m\u001b[38;5;124m'\u001b[39m, \u001b[38;5;124m'\u001b[39m\u001b[38;5;124m1.0\u001b[39m\u001b[38;5;124m'\u001b[39m: \u001b[38;5;124m'\u001b[39m\u001b[38;5;124mblue\u001b[39m\u001b[38;5;124m'\u001b[39m}\n\u001b[0;32m----> 3\u001b[0m colors \u001b[38;5;241m=\u001b[39m [\u001b[43mlabel_to_color\u001b[49m\u001b[43m[\u001b[49m\u001b[43mlabel\u001b[49m\u001b[43m]\u001b[49m \u001b[38;5;28;01mfor\u001b[39;00m label \u001b[38;5;129;01min\u001b[39;00m beijing_np[:, \u001b[38;5;241m10\u001b[39m]]\n",
      "\u001b[0;31mKeyError\u001b[0m: np.float64(1.0)"
     ]
    }
   ],
   "source": [
    "beijing_np[:, 10]\n",
    "label_to_color = ['blue', 'red']\n",
    "colors = [label_to_color[label] for label in beijing_np[:, 10]]\n"
   ]
  },
  {
   "cell_type": "code",
   "execution_count": 247,
   "metadata": {},
   "outputs": [
    {
     "ename": "KeyError",
     "evalue": "np.float64(1.0)",
     "output_type": "error",
     "traceback": [
      "\u001b[0;31m---------------------------------------------------------------------------\u001b[0m",
      "\u001b[0;31mKeyError\u001b[0m                                  Traceback (most recent call last)",
      "Cell \u001b[0;32mIn[247], line 11\u001b[0m\n\u001b[1;32m      9\u001b[0m fig \u001b[38;5;241m=\u001b[39m plt\u001b[38;5;241m.\u001b[39mfigure(figsize\u001b[38;5;241m=\u001b[39m(\u001b[38;5;241m12\u001b[39m, \u001b[38;5;241m4\u001b[39m))\n\u001b[1;32m     10\u001b[0m label_to_color \u001b[38;5;241m=\u001b[39m {\u001b[38;5;124m'\u001b[39m\u001b[38;5;124m0.0\u001b[39m\u001b[38;5;124m'\u001b[39m: \u001b[38;5;124m'\u001b[39m\u001b[38;5;124mred\u001b[39m\u001b[38;5;124m'\u001b[39m, \u001b[38;5;124m'\u001b[39m\u001b[38;5;124m1.0\u001b[39m\u001b[38;5;124m'\u001b[39m: \u001b[38;5;124m'\u001b[39m\u001b[38;5;124mblue\u001b[39m\u001b[38;5;124m'\u001b[39m}\n\u001b[0;32m---> 11\u001b[0m colors \u001b[38;5;241m=\u001b[39m [label_to_color[label] \u001b[38;5;28;01mfor\u001b[39;00m label \u001b[38;5;129;01min\u001b[39;00m beijing_np[:, \u001b[38;5;241m10\u001b[39m]]\n\u001b[1;32m     12\u001b[0m \u001b[38;5;66;03m# Define different (elev, azim) pairs\u001b[39;00m\n\u001b[1;32m     13\u001b[0m angles \u001b[38;5;241m=\u001b[39m [(\u001b[38;5;241m20\u001b[39m, \u001b[38;5;241m30\u001b[39m), (\u001b[38;5;241m45\u001b[39m, \u001b[38;5;241m45\u001b[39m), (\u001b[38;5;241m60\u001b[39m, \u001b[38;5;241m120\u001b[39m)]\n",
      "Cell \u001b[0;32mIn[247], line 11\u001b[0m, in \u001b[0;36m<listcomp>\u001b[0;34m(.0)\u001b[0m\n\u001b[1;32m      9\u001b[0m fig \u001b[38;5;241m=\u001b[39m plt\u001b[38;5;241m.\u001b[39mfigure(figsize\u001b[38;5;241m=\u001b[39m(\u001b[38;5;241m12\u001b[39m, \u001b[38;5;241m4\u001b[39m))\n\u001b[1;32m     10\u001b[0m label_to_color \u001b[38;5;241m=\u001b[39m {\u001b[38;5;124m'\u001b[39m\u001b[38;5;124m0.0\u001b[39m\u001b[38;5;124m'\u001b[39m: \u001b[38;5;124m'\u001b[39m\u001b[38;5;124mred\u001b[39m\u001b[38;5;124m'\u001b[39m, \u001b[38;5;124m'\u001b[39m\u001b[38;5;124m1.0\u001b[39m\u001b[38;5;124m'\u001b[39m: \u001b[38;5;124m'\u001b[39m\u001b[38;5;124mblue\u001b[39m\u001b[38;5;124m'\u001b[39m}\n\u001b[0;32m---> 11\u001b[0m colors \u001b[38;5;241m=\u001b[39m [\u001b[43mlabel_to_color\u001b[49m\u001b[43m[\u001b[49m\u001b[43mlabel\u001b[49m\u001b[43m]\u001b[49m \u001b[38;5;28;01mfor\u001b[39;00m label \u001b[38;5;129;01min\u001b[39;00m beijing_np[:, \u001b[38;5;241m10\u001b[39m]]\n\u001b[1;32m     12\u001b[0m \u001b[38;5;66;03m# Define different (elev, azim) pairs\u001b[39;00m\n\u001b[1;32m     13\u001b[0m angles \u001b[38;5;241m=\u001b[39m [(\u001b[38;5;241m20\u001b[39m, \u001b[38;5;241m30\u001b[39m), (\u001b[38;5;241m45\u001b[39m, \u001b[38;5;241m45\u001b[39m), (\u001b[38;5;241m60\u001b[39m, \u001b[38;5;241m120\u001b[39m)]\n",
      "\u001b[0;31mKeyError\u001b[0m: np.float64(1.0)"
     ]
    },
    {
     "data": {
      "text/plain": [
       "<Figure size 1200x400 with 0 Axes>"
      ]
     },
     "metadata": {},
     "output_type": "display_data"
    }
   ],
   "source": [
    "import numpy as np\n",
    "import matplotlib.pyplot as plt\n",
    "from mpl_toolkits.mplot3d import Axes3D\n",
    "\n",
    "\n",
    "x, y, z = a[:, 0], a[:, 1], a[:, 2]\n",
    "\n",
    "# Create a figure with multiple subplots\n",
    "fig = plt.figure(figsize=(12, 4))\n",
    "label_to_color = {'0.0': 'red', '1.0': 'blue'}\n",
    "colors = [label_to_color[label] for label in beijing_np[:, 10]]\n",
    "# Define different (elev, azim) pairs\n",
    "angles = [(20, 30), (45, 45), (60, 120)]\n",
    "\n",
    "for i, (elev, azim) in enumerate(angles):\n",
    "    ax = fig.add_subplot(1, 3, i+1, projection='3d')\n",
    "    ax.scatter(x, y, z, c='b', marker='o')\n",
    "    ax.view_init(elev=elev, azim=azim)\n",
    "    ax.set_title(f\"elev={elev}, azim={azim}\")\n",
    "    ax.set_xlabel('X')\n",
    "    ax.set_ylabel('Y')\n",
    "    ax.set_zlabel('Z')\n",
    "\n",
    "plt.tight_layout()\n",
    "plt.show()\n",
    "\n",
    "\n"
   ]
  },
  {
   "cell_type": "code",
   "execution_count": 218,
   "metadata": {},
   "outputs": [
    {
     "name": "stdout",
     "output_type": "stream",
     "text": [
      "ITERATION 1. DISTANCE: 2.0358932911815364\n",
      "[ 92 702 289 427 561]\n",
      "ITERATION 2. DISTANCE: 0.6450163402632024\n",
      "[345 524 311 429 462]\n",
      "ITERATION 3. DISTANCE: 0.34485472955051283\n",
      "[411 470 317 437 436]\n",
      "ITERATION 4. DISTANCE: 0.30497713247617564\n",
      "[433 437 326 417 458]\n",
      "ITERATION 5. DISTANCE: 0.23482371980473804\n",
      "[437 418 328 393 495]\n",
      "ITERATION 6. DISTANCE: 0.23837400094579234\n",
      "[438 396 328 376 533]\n",
      "ITERATION 7. DISTANCE: 0.23160434419011441\n",
      "[433 374 332 359 573]\n",
      "ITERATION 8. DISTANCE: 0.21376383101120192\n",
      "[420 353 340 350 608]\n",
      "ITERATION 9. DISTANCE: 0.20454213904316332\n",
      "[409 342 338 341 641]\n",
      "ITERATION 10. DISTANCE: 0.13188724738119567\n",
      "[408 330 344 325 664]\n",
      "ITERATION 11. DISTANCE: 0.14610263568417772\n",
      "[408 315 349 327 672]\n",
      "ITERATION 12. DISTANCE: 0.21289391874221766\n",
      "[404 306 345 328 688]\n",
      "ITERATION 13. DISTANCE: 0.25866788117036005\n",
      "[396 301 349 317 708]\n",
      "ITERATION 14. DISTANCE: 0.21677122287787698\n",
      "[388 299 361 307 716]\n",
      "ITERATION 15. DISTANCE: 0.1821373311232166\n",
      "[379 316 357 303 716]\n",
      "ITERATION 16. DISTANCE: 0.15514287645361882\n",
      "[387 330 356 285 713]\n",
      "ITERATION 17. DISTANCE: 0.1064836693746154\n",
      "[394 339 352 276 710]\n",
      "ITERATION 18. DISTANCE: 0.08552747309854931\n",
      "[405 342 350 264 710]\n",
      "ITERATION 19. DISTANCE: 0.07433741506173386\n",
      "[414 342 346 261 708]\n",
      "ITERATION 20. DISTANCE: 0.04958980145560166\n",
      "[421 342 342 261 705]\n",
      "ITERATION 21. DISTANCE: 0.02060132020712072\n",
      "[423 343 341 260 704]\n",
      "ITERATION 22. DISTANCE: 0.03160539749537578\n",
      "[422 346 339 261 703]\n",
      "ITERATION 23. DISTANCE: 0.014155059799441481\n",
      "[423 346 337 263 702]\n",
      "ITERATION 24. DISTANCE: 0.020695164045931077\n",
      "[423 346 334 266 702]\n",
      "ITERATION 25. DISTANCE: 0.01600014550625442\n",
      "[423 346 333 267 702]\n",
      "ITERATION 26. DISTANCE: 0.01915957485080164\n",
      "[423 346 331 269 702]\n",
      "ITERATION 27. DISTANCE: 0.005282258707211042\n",
      "[424 346 331 268 702]\n",
      "ITERATION 28. DISTANCE: 0.005272266740655559\n",
      "[425 346 331 267 702]\n",
      "ITERATION 29. DISTANCE: 0.0035837089435756596\n",
      "[426 346 331 267 701]\n",
      "ITERATION 30. DISTANCE: 0.00421812936390626\n",
      "[425 347 331 267 701]\n",
      "ITERATION 31. DISTANCE: 0.0\n",
      "[425 347 331 267 701]\n"
     ]
    }
   ],
   "source": [
    "temp.fit(beijing_np[:, :10], beijing_np[:, 10], verbose=True)"
   ]
  },
  {
   "cell_type": "code",
   "execution_count": 200,
   "metadata": {},
   "outputs": [
    {
     "data": {
      "text/plain": [
       "array([0., 0., 0., ..., 0., 0., 0.], shape=(2071,))"
      ]
     },
     "execution_count": 200,
     "metadata": {},
     "output_type": "execute_result"
    }
   ],
   "source": [
    "temp.predict(beijing_np[:, :10])"
   ]
  },
  {
   "cell_type": "code",
   "execution_count": 201,
   "metadata": {},
   "outputs": [
    {
     "name": "stdout",
     "output_type": "stream",
     "text": [
      "[1. 0. 0. ... 1. 0. 0.]\n"
     ]
    },
    {
     "data": {
      "text/plain": [
       "(np.float64(0.6885562530178657),\n",
       " array([[1152,  270],\n",
       "        [ 375,  274]]))"
      ]
     },
     "execution_count": 201,
     "metadata": {},
     "output_type": "execute_result"
    }
   ],
   "source": [
    "temp.score(beijing_np[:, :10], beijing_np[:, 10])"
   ]
  }
 ],
 "metadata": {
  "kernelspec": {
   "display_name": "kmeans",
   "language": "python",
   "name": "python3"
  },
  "language_info": {
   "codemirror_mode": {
    "name": "ipython",
    "version": 3
   },
   "file_extension": ".py",
   "mimetype": "text/x-python",
   "name": "python",
   "nbconvert_exporter": "python",
   "pygments_lexer": "ipython3",
   "version": "3.10.16"
  }
 },
 "nbformat": 4,
 "nbformat_minor": 2
}
