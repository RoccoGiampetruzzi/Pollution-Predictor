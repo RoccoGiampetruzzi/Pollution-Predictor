{
 "cells": [
  {
   "cell_type": "code",
   "execution_count": 1,
   "metadata": {},
   "outputs": [],
   "source": [
    "import numpy as np\n",
    "import pandas as pd\n",
    "import matplotlib.pyplot as plt"
   ]
  },
  {
   "cell_type": "code",
   "execution_count": 6,
   "metadata": {},
   "outputs": [
    {
     "name": "stdout",
     "output_type": "stream",
     "text": [
      "(2071, 11) (1110, 11) (1352, 11) (1351, 11) (824, 11)\n"
     ]
    },
    {
     "data": {
      "text/plain": [
       "Index(['season', 'DEWP', 'HUMI', 'PRES', 'TEMP', 'Iws', 'precipitation',\n",
       "       'cbwd_NE', 'cbwd_NW', 'cbwd_SE', 'PM_HIGH'],\n",
       "      dtype='object')"
      ]
     },
     "execution_count": 6,
     "metadata": {},
     "output_type": "execute_result"
    }
   ],
   "source": [
    "beijng = pd.read_csv('Cities/Beijing_labeled.csv')\n",
    "chengdu = pd.read_csv('Cities/Chengdu_labeled.csv')\n",
    "guangzhou = pd.read_csv('Cities/Guangzhou_labeled.csv')\n",
    "shanghai = pd.read_csv('Cities/Shanghai_labeled.csv')\n",
    "shenyang = pd.read_csv('Cities/Shenyang_labeled.csv')\n",
    "\n",
    "\n",
    "print(beijng.shape, chengdu.shape, guangzhou.shape, shanghai.shape, shenyang.shape)\n",
    "\n",
    "beijng.columns\n"
   ]
  },
  {
   "cell_type": "code",
   "execution_count": null,
   "metadata": {},
   "outputs": [],
   "source": []
  }
 ],
 "metadata": {
  "kernelspec": {
   "display_name": "designai",
   "language": "python",
   "name": "python3"
  },
  "language_info": {
   "codemirror_mode": {
    "name": "ipython",
    "version": 3
   },
   "file_extension": ".py",
   "mimetype": "text/x-python",
   "name": "python",
   "nbconvert_exporter": "python",
   "pygments_lexer": "ipython3",
   "version": "3.10.16"
  }
 },
 "nbformat": 4,
 "nbformat_minor": 2
}
