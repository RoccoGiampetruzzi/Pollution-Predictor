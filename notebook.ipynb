{
 "cells": [
  {
   "cell_type": "code",
   "execution_count": 8,
   "metadata": {},
   "outputs": [],
   "source": [
    "import numpy as np\n",
    "import pandas as pd\n",
    "import matplotlib.pyplot as plt"
   ]
  },
  {
   "cell_type": "code",
   "execution_count": 16,
   "metadata": {},
   "outputs": [
    {
     "name": "stdout",
     "output_type": "stream",
     "text": [
      "(2071, 11) (1110, 11) (1352, 11) (1351, 11) (824, 11)\n"
     ]
    },
    {
     "data": {
      "text/plain": [
       "Index(['season', 'DEWP', 'HUMI', 'PRES', 'TEMP', 'Iws', 'precipitation',\n",
       "       'cbwd_NE', 'cbwd_NW', 'cbwd_SE', 'PM_HIGH'],\n",
       "      dtype='object')"
      ]
     },
     "execution_count": 16,
     "metadata": {},
     "output_type": "execute_result"
    }
   ],
   "source": [
    "beijing = pd.read_csv('Cities/Beijing_labeled.csv')\n",
    "chengdu = pd.read_csv('Cities/Chengdu_labeled.csv')\n",
    "guangzhou = pd.read_csv('Cities/Guangzhou_labeled.csv')\n",
    "shanghai = pd.read_csv('Cities/Shanghai_labeled.csv')\n",
    "shenyang = pd.read_csv('Cities/Shenyang_labeled.csv')\n",
    "\n",
    "\n",
    "print(beijing.shape, chengdu.shape, guangzhou.shape, shanghai.shape, shenyang.shape)\n",
    "\n",
    "beijing.columns\n"
   ]
  },
  {
   "cell_type": "code",
   "execution_count": 17,
   "metadata": {},
   "outputs": [
    {
     "data": {
      "text/html": [
       "<div>\n",
       "<style scoped>\n",
       "    .dataframe tbody tr th:only-of-type {\n",
       "        vertical-align: middle;\n",
       "    }\n",
       "\n",
       "    .dataframe tbody tr th {\n",
       "        vertical-align: top;\n",
       "    }\n",
       "\n",
       "    .dataframe thead th {\n",
       "        text-align: right;\n",
       "    }\n",
       "</style>\n",
       "<table border=\"1\" class=\"dataframe\">\n",
       "  <thead>\n",
       "    <tr style=\"text-align: right;\">\n",
       "      <th></th>\n",
       "      <th>season</th>\n",
       "      <th>DEWP</th>\n",
       "      <th>HUMI</th>\n",
       "      <th>PRES</th>\n",
       "      <th>TEMP</th>\n",
       "      <th>Iws</th>\n",
       "      <th>precipitation</th>\n",
       "      <th>cbwd_NE</th>\n",
       "      <th>cbwd_NW</th>\n",
       "      <th>cbwd_SE</th>\n",
       "      <th>PM_HIGH</th>\n",
       "    </tr>\n",
       "  </thead>\n",
       "  <tbody>\n",
       "    <tr>\n",
       "      <th>0</th>\n",
       "      <td>4</td>\n",
       "      <td>-8.0</td>\n",
       "      <td>79.0</td>\n",
       "      <td>1026.0</td>\n",
       "      <td>-5.0</td>\n",
       "      <td>23.69</td>\n",
       "      <td>0.0</td>\n",
       "      <td>0</td>\n",
       "      <td>0</td>\n",
       "      <td>1</td>\n",
       "      <td>1.0</td>\n",
       "    </tr>\n",
       "    <tr>\n",
       "      <th>1</th>\n",
       "      <td>4</td>\n",
       "      <td>-11.0</td>\n",
       "      <td>85.0</td>\n",
       "      <td>1021.0</td>\n",
       "      <td>-9.0</td>\n",
       "      <td>105.93</td>\n",
       "      <td>1.1</td>\n",
       "      <td>0</td>\n",
       "      <td>0</td>\n",
       "      <td>1</td>\n",
       "      <td>0.0</td>\n",
       "    </tr>\n",
       "    <tr>\n",
       "      <th>2</th>\n",
       "      <td>4</td>\n",
       "      <td>-21.0</td>\n",
       "      <td>43.0</td>\n",
       "      <td>1030.0</td>\n",
       "      <td>-11.0</td>\n",
       "      <td>117.55</td>\n",
       "      <td>0.0</td>\n",
       "      <td>0</td>\n",
       "      <td>1</td>\n",
       "      <td>0</td>\n",
       "      <td>0.0</td>\n",
       "    </tr>\n",
       "    <tr>\n",
       "      <th>3</th>\n",
       "      <td>4</td>\n",
       "      <td>-25.0</td>\n",
       "      <td>33.0</td>\n",
       "      <td>1034.0</td>\n",
       "      <td>-12.0</td>\n",
       "      <td>39.35</td>\n",
       "      <td>0.0</td>\n",
       "      <td>1</td>\n",
       "      <td>0</td>\n",
       "      <td>0</td>\n",
       "      <td>0.0</td>\n",
       "    </tr>\n",
       "    <tr>\n",
       "      <th>4</th>\n",
       "      <td>4</td>\n",
       "      <td>-24.0</td>\n",
       "      <td>30.0</td>\n",
       "      <td>1034.0</td>\n",
       "      <td>-10.0</td>\n",
       "      <td>59.00</td>\n",
       "      <td>0.0</td>\n",
       "      <td>1</td>\n",
       "      <td>0</td>\n",
       "      <td>0</td>\n",
       "      <td>0.0</td>\n",
       "    </tr>\n",
       "  </tbody>\n",
       "</table>\n",
       "</div>"
      ],
      "text/plain": [
       "   season  DEWP  HUMI    PRES  TEMP     Iws  precipitation  cbwd_NE  cbwd_NW  \\\n",
       "0       4  -8.0  79.0  1026.0  -5.0   23.69            0.0        0        0   \n",
       "1       4 -11.0  85.0  1021.0  -9.0  105.93            1.1        0        0   \n",
       "2       4 -21.0  43.0  1030.0 -11.0  117.55            0.0        0        1   \n",
       "3       4 -25.0  33.0  1034.0 -12.0   39.35            0.0        1        0   \n",
       "4       4 -24.0  30.0  1034.0 -10.0   59.00            0.0        1        0   \n",
       "\n",
       "   cbwd_SE  PM_HIGH  \n",
       "0        1      1.0  \n",
       "1        1      0.0  \n",
       "2        0      0.0  \n",
       "3        0      0.0  \n",
       "4        0      0.0  "
      ]
     },
     "execution_count": 17,
     "metadata": {},
     "output_type": "execute_result"
    }
   ],
   "source": [
    "beijing.head()"
   ]
  },
  {
   "cell_type": "markdown",
   "metadata": {},
   "source": [
    "(x - mu)/sigma"
   ]
  },
  {
   "cell_type": "code",
   "execution_count": 179,
   "metadata": {},
   "outputs": [],
   "source": [
    "beijing_np = beijing.to_numpy()"
   ]
  },
  {
   "cell_type": "code",
   "execution_count": 180,
   "metadata": {},
   "outputs": [
    {
     "data": {
      "text/plain": [
       "array([[  4.,  -8.,  79., ...,   0.,   1.,   1.],\n",
       "       [  4., -11.,  85., ...,   0.,   1.,   0.],\n",
       "       [  4., -21.,  43., ...,   1.,   0.,   0.],\n",
       "       ...,\n",
       "       [  4.,  -8.,  50., ...,   1.,   0.,   1.],\n",
       "       [  4., -11.,  28., ...,   1.,   0.,   0.],\n",
       "       [  4., -10.,  37., ...,   0.,   0.,   0.]], shape=(2071, 11))"
      ]
     },
     "execution_count": 180,
     "metadata": {},
     "output_type": "execute_result"
    }
   ],
   "source": [
    "beijing_np"
   ]
  },
  {
   "cell_type": "code",
   "execution_count": 178,
   "metadata": {},
   "outputs": [
    {
     "data": {
      "text/plain": [
       "array([27.26340602, 16.62792636, 24.721978  , 25.44849879, 14.90795803,\n",
       "       11.12031886, 26.87770809, 19.16532489, 17.25422165, 10.01584361])"
      ]
     },
     "execution_count": 178,
     "metadata": {},
     "output_type": "execute_result"
    }
   ],
   "source": [
    "a"
   ]
  },
  {
   "cell_type": "code",
   "execution_count": 181,
   "metadata": {},
   "outputs": [],
   "source": [
    "mean = np.mean(beijing_np, axis=0)"
   ]
  },
  {
   "cell_type": "code",
   "execution_count": 182,
   "metadata": {},
   "outputs": [
    {
     "data": {
      "text/plain": [
       "array([2.48575567e+00, 1.20183486e+00, 4.11211975e+01, 1.01671173e+03,\n",
       "       1.62206663e+01, 2.14990343e+01, 4.65475616e-02, 1.13954611e-01,\n",
       "       3.06132303e-01, 3.15789474e-01, 3.13375181e-01])"
      ]
     },
     "execution_count": 182,
     "metadata": {},
     "output_type": "execute_result"
    }
   ],
   "source": [
    "mean"
   ]
  },
  {
   "cell_type": "code",
   "execution_count": 183,
   "metadata": {},
   "outputs": [],
   "source": [
    "std = np.std(beijing_np, axis=0)"
   ]
  },
  {
   "cell_type": "code",
   "execution_count": 184,
   "metadata": {},
   "outputs": [
    {
     "data": {
      "text/plain": [
       "array([ 1.12332923, 14.61436745, 22.82766223, 10.25316677, 11.68531861,\n",
       "       47.6189516 ,  0.49582166,  0.31775613,  0.46088536,  0.46482952,\n",
       "        0.46386547])"
      ]
     },
     "execution_count": 184,
     "metadata": {},
     "output_type": "execute_result"
    }
   ],
   "source": [
    "std"
   ]
  },
  {
   "cell_type": "code",
   "execution_count": 185,
   "metadata": {},
   "outputs": [],
   "source": [
    "a = (beijing_np - mean)/std"
   ]
  },
  {
   "cell_type": "code",
   "execution_count": 186,
   "metadata": {},
   "outputs": [
    {
     "data": {
      "text/plain": [
       "array([ 1.3479969 , -0.62964305,  1.65933779,  0.90589247, -1.81601093,\n",
       "        0.04601037, -0.09387965, -0.35862286, -0.66422657,  1.47196014,\n",
       "        1.48022403])"
      ]
     },
     "execution_count": 186,
     "metadata": {},
     "output_type": "execute_result"
    }
   ],
   "source": [
    "a[0]"
   ]
  },
  {
   "cell_type": "code",
   "execution_count": 190,
   "metadata": {},
   "outputs": [
    {
     "data": {
      "text/plain": [
       "array([ 1.3479969 , -0.62964305,  1.65933779,  0.90589247, -1.81601093,\n",
       "        0.04601037, -0.09387965, -0.35862286, -0.66422657,  1.47196014,\n",
       "        1.48022403])"
      ]
     },
     "execution_count": 190,
     "metadata": {},
     "output_type": "execute_result"
    }
   ],
   "source": [
    "a[0]"
   ]
  },
  {
   "cell_type": "code",
   "execution_count": 188,
   "metadata": {},
   "outputs": [
    {
     "data": {
      "text/plain": [
       "array([1., 1., 1., 1., 1., 1., 1., 1., 1., 1., 1.])"
      ]
     },
     "execution_count": 188,
     "metadata": {},
     "output_type": "execute_result"
    }
   ],
   "source": [
    "np.std(a, axis = 0)"
   ]
  },
  {
   "cell_type": "code",
   "execution_count": 387,
   "metadata": {},
   "outputs": [],
   "source": [
    "import numpy as np\n",
    "\n",
    "class PM_HIGH_PREDICTOR:\n",
    "    def __init__(self, K, tolerance=1e-5):\n",
    "        self.mean = None\n",
    "        self.std = None\n",
    "        self.K = K\n",
    "        self.tolerance=tolerance\n",
    "        self.centroids = None\n",
    "    \n",
    "    def normalize(self, X, training = False):\n",
    "        \"\"\"\n",
    "        Inputs:\n",
    "        - X (numpy array): Array containing the input data.\n",
    "        \"\"\"\n",
    "        if training:\n",
    "            self.mean = np.mean(X, axis = 0)        # Mean over the rows of the input array\n",
    "            self.std = np.std(X, axis = 0)          # STD over the rows of the input array\n",
    "\n",
    "        return (X - self.mean)/self.std\n",
    "        \n",
    "    def fit(self, X_train, verbose=False):\n",
    "        \n",
    "        \"\"\"\n",
    "        Inputs:\n",
    "        - X (np.array): training data\n",
    "        - verbose: verbosity parameter (set to True to see distance and # of iterations)\n",
    "        Outputs:\n",
    "        - None\n",
    "        \"\"\"\n",
    "        \n",
    "        if len(X_train.shape) == 1:\n",
    "            raise Exception('You need at least two vectors to train K-Means')\n",
    "            \n",
    "        ### INPUT DATA INITIALIZATION ###\n",
    "        X = self.normalize(X_train, training=True)                                                           \n",
    "        \n",
    "        ### RANDOM CENTROID INITIALIZATION ###\n",
    "        self.centroids = np.random.normal(loc=0, scale= 1, size = (self.K, X.shape[1]))     \n",
    "        \n",
    "        centroid_distance = 100\n",
    "        n_iterations = 0\n",
    "        \n",
    "        \n",
    "        #### ITERATIVE STEP ####\n",
    "        while centroid_distance > self.tolerance:\n",
    "            \n",
    "            # Computing distance between each datapoint and each centroid (returns array of shape n_datapoints x n_centroids)\n",
    "            point_centroid_distances = np.linalg.norm(X[:, np.newaxis, :] - self.centroids[np.newaxis, :, :], axis = 2)\n",
    "            \n",
    "            # Assigning each datapoint to closest centroid (returns array of shape n_datapoints x 1, with entries in [0, K])\n",
    "            centroid_assignment = np.argmin(point_centroid_distances, axis = 1)\n",
    "\n",
    "            \n",
    "            new_centroids = []\n",
    "            for i in range(self.K):\n",
    "                if np.bincount(centroid_assignment)[i]:\n",
    "                    \n",
    "                    # Computing new centroids by doing mean of assigned datapoints\n",
    "                    new_centroids.append(np.mean(X[centroid_assignment == i], axis = 0))\n",
    "                \n",
    "                else:\n",
    "                    new_centroids.append(self.centroids[i])\n",
    "            \n",
    "            new_centroids = np.array(new_centroids)\n",
    "            centroid_distance = np.linalg.norm(self.centroids - new_centroids)\n",
    "            self.centroids = new_centroids\n",
    "            n_iterations += 1\n",
    "            if verbose:\n",
    "                print(f'ITERATION {n_iterations}. DISTANCE: {centroid_distance}')\n",
    "    \n",
    "    def predict(self, X_test):\n",
    "        if self.centroids is None:\n",
    "            raise Exception('The model has not been trained')\n",
    "        \n",
    "        if len(X_test.shape) == 1:\n",
    "            X_test = X_test[np.newaxis, :]\n",
    "            \n",
    "        if X_test.shape[1] != self.centroids.shape[1]:\n",
    "            raise Exception(f'Doing prediction with {X_test.shape[1]} features, but trained on {self.centroids.shape[1]}')\n",
    "        \n",
    "        X = self.normalize(X_test, training=False)\n",
    "        \n",
    "        point_centroid_distances = np.linalg.norm(X[:, np.newaxis, :] - self.centroids[np.newaxis, :, :], axis = 2)\n",
    "        return np.argmin(point_centroid_distances, axis = 1)\n",
    "    \n",
    "    def score(self, X, y):\n",
    "        y_pred = self.predict(X)\n",
    "        n_labels = max(self.centroids.shape[0], int(np.max(y)))\n",
    "        confusion_matrix = np.zeros((n_labels, n_labels), dtype=int)\n",
    "\n",
    "        # Counting entries of Confusion Matrix\n",
    "        for true_label, pred_label in zip(y, y_pred):\n",
    "            confusion_matrix[int(true_label), int(pred_label)] += 1\n",
    "            \n",
    "        # Computing accuracy\n",
    "        accuracy = np.trace(confusion_matrix) / np.sum(confusion_matrix)\n",
    "        \n",
    "        return accuracy, confusion_matrix\n",
    "    \n",
    "    "
   ]
  },
  {
   "cell_type": "code",
   "execution_count": 388,
   "metadata": {},
   "outputs": [],
   "source": [
    "temp = PM_HIGH_PREDICTOR(K = 2)"
   ]
  },
  {
   "cell_type": "code",
   "execution_count": 360,
   "metadata": {},
   "outputs": [
    {
     "data": {
      "text/plain": [
       "np.float64(1.0)"
      ]
     },
     "execution_count": 360,
     "metadata": {},
     "output_type": "execute_result"
    }
   ],
   "source": [
    "np.max(beijing_np[:, 10])"
   ]
  },
  {
   "cell_type": "code",
   "execution_count": 389,
   "metadata": {},
   "outputs": [
    {
     "name": "stdout",
     "output_type": "stream",
     "text": [
      "ITERATION 1. DISTANCE: 3.3096248856360773\n",
      "ITERATION 2. DISTANCE: 1.1968893384840977\n",
      "ITERATION 3. DISTANCE: 0.5763703421288812\n",
      "ITERATION 4. DISTANCE: 0.1985946900972722\n",
      "ITERATION 5. DISTANCE: 0.0874702164151685\n",
      "ITERATION 6. DISTANCE: 0.03119307557705164\n",
      "ITERATION 7. DISTANCE: 0.01824931274281722\n",
      "ITERATION 8. DISTANCE: 0.009900144767565244\n",
      "ITERATION 9. DISTANCE: 0.003912845591415147\n",
      "ITERATION 10. DISTANCE: 0.0\n"
     ]
    }
   ],
   "source": [
    "temp.fit(beijing_np[:, :10], verbose=True)"
   ]
  },
  {
   "cell_type": "code",
   "execution_count": 384,
   "metadata": {},
   "outputs": [
    {
     "data": {
      "text/plain": [
       "1"
      ]
     },
     "execution_count": 384,
     "metadata": {},
     "output_type": "execute_result"
    }
   ],
   "source": [
    "len(beijing_np[0].shape)"
   ]
  },
  {
   "cell_type": "code",
   "execution_count": 390,
   "metadata": {},
   "outputs": [
    {
     "data": {
      "text/plain": [
       "array([0, 0, 0, ..., 0, 0, 0], shape=(2071,))"
      ]
     },
     "execution_count": 390,
     "metadata": {},
     "output_type": "execute_result"
    }
   ],
   "source": [
    "temp.predict(beijing_np[:, :10])"
   ]
  },
  {
   "cell_type": "code",
   "execution_count": 392,
   "metadata": {},
   "outputs": [
    {
     "data": {
      "text/plain": [
       "(np.float64(0.5519072911636891),\n",
       " array([[707, 715],\n",
       "        [213, 436]]))"
      ]
     },
     "execution_count": 392,
     "metadata": {},
     "output_type": "execute_result"
    }
   ],
   "source": [
    "temp.score(beijing_np[:, :10], beijing_np[:, 10])"
   ]
  },
  {
   "cell_type": "code",
   "execution_count": null,
   "metadata": {},
   "outputs": [],
   "source": []
  }
 ],
 "metadata": {
  "kernelspec": {
   "display_name": "kmeans",
   "language": "python",
   "name": "python3"
  },
  "language_info": {
   "codemirror_mode": {
    "name": "ipython",
    "version": 3
   },
   "file_extension": ".py",
   "mimetype": "text/x-python",
   "name": "python",
   "nbconvert_exporter": "python",
   "pygments_lexer": "ipython3",
   "version": "3.10.16"
  }
 },
 "nbformat": 4,
 "nbformat_minor": 2
}
